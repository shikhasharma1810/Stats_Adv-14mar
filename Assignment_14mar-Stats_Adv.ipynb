{
 "cells": [
  {
   "cell_type": "code",
   "execution_count": null,
   "id": "37aed89e-7e44-4fa8-9a6e-2c972ecc025a",
   "metadata": {},
   "outputs": [],
   "source": [
    "Q1. Write a Python function that takes in two arrays of data and calculates the F-value for a variance ratio\n",
    "test. The function should return the F-value and the corresponding p-value for the test."
   ]
  },
  {
   "cell_type": "code",
   "execution_count": 71,
   "id": "a65c558c-f0f2-4a84-ba51-da03db2f3758",
   "metadata": {},
   "outputs": [],
   "source": [
    "import scipy.stats as st\n",
    "import numpy as np\n",
    "\n",
    "def f_and_p_value(sample_1,sample_2):\n",
    "    f_value = np.var(sample_1)/np.var(sample_2)\n",
    "    df1 = len(sample_1)-1\n",
    "    df2 = len(sample_2)-1\n",
    "    # Calculate the p-value\n",
    "    cdf = st.f.cdf(f_value, df1, df2)\n",
    "    p_value = 1-cdf\n",
    "    return 'F-value:',f_value, 'P-value:',p_value"
   ]
  },
  {
   "cell_type": "code",
   "execution_count": 72,
   "id": "226be78e-ce2b-444e-8ee7-fef0162758b5",
   "metadata": {},
   "outputs": [
    {
     "data": {
      "text/plain": [
       "('F-value:', 0.33711569947243947, 'P-value:', 0.8007930016524029)"
      ]
     },
     "execution_count": 72,
     "metadata": {},
     "output_type": "execute_result"
    }
   ],
   "source": [
    "f_and_p_value([20,25,45,48],[58,79,23,69,80])"
   ]
  },
  {
   "cell_type": "code",
   "execution_count": null,
   "id": "0c49d636-faca-4683-a57c-ed66a705df16",
   "metadata": {},
   "outputs": [],
   "source": [
    "Q2. Given a significance level of 0.05 and the degrees of freedom for the numerator and denominator of an\n",
    "F-distribution, write a Python function that returns the critical F-value for a two-tailed test."
   ]
  },
  {
   "cell_type": "code",
   "execution_count": 19,
   "id": "47ef0d09-864d-40f8-913c-72bcf9504904",
   "metadata": {},
   "outputs": [],
   "source": [
    "import scipy.stats as st\n",
    "\n",
    "def critical_value(sample_1,sample_2,significance_value):\n",
    "    df1 = sample_1-1\n",
    "    df2 = sample_2-1\n",
    "    critical_value = st.f.ppf(q=1-significance_value,dfn=df1,dfd=df2)\n",
    "    return ('Critical Value:',critical_value)"
   ]
  },
  {
   "cell_type": "code",
   "execution_count": 20,
   "id": "1939183f-e18a-44c3-882a-5d7da2fd83e3",
   "metadata": {},
   "outputs": [
    {
     "data": {
      "text/plain": [
       "('Critical Value:', 1.9581455228412208)"
      ]
     },
     "execution_count": 20,
     "metadata": {},
     "output_type": "execute_result"
    }
   ],
   "source": [
    "critical_value(20,30,0.05)"
   ]
  },
  {
   "cell_type": "code",
   "execution_count": null,
   "id": "d9e6d28b-6e70-4ddf-b225-318b00041010",
   "metadata": {},
   "outputs": [],
   "source": [
    "Q3. Write a Python program that generates random samples from two normal distributions with known\n",
    "variances and uses an F-test to determine if the variances are equal. The program should output the F-\n",
    "value, degrees of freedom, and p-value for the test."
   ]
  },
  {
   "cell_type": "code",
   "execution_count": 73,
   "id": "18f55783-358b-49eb-94c6-73d17dc88b51",
   "metadata": {},
   "outputs": [
    {
     "name": "stdout",
     "output_type": "stream",
     "text": [
      "Sample 1: [-0.75064762 -0.40775886  1.19924253 -0.77107856  0.17875315]\n",
      "Sample 2: [ 0.51127702  0.74774196 -0.57250832 -0.01678073]\n",
      "F-value: 2.110008531802257 , Degree of freedom: 4 and 3 , P-value: 0.2828994884032323\n"
     ]
    }
   ],
   "source": [
    "import numpy as np\n",
    "\n",
    "sample1 = np.random.randn(5)\n",
    "print('Sample 1:',sample1)\n",
    "sample2 = np.random.randn(4)\n",
    "print('Sample 2:',sample2)\n",
    "f_value = np.var(sample1)/np.var(sample2)\n",
    "df1 = len(sample1)-1\n",
    "df2 = len(sample2)-1\n",
    "# Calculate the p-value\n",
    "cdf = st.f.cdf(f_value, df1, df2)\n",
    "p_value = 1-cdf\n",
    "print('F-value:',f_value,', Degree of freedom:',df1,'and',df2,', P-value:',p_value)"
   ]
  },
  {
   "cell_type": "code",
   "execution_count": null,
   "id": "473e8b7b-f9ad-476a-8a2a-8ed2f03c239a",
   "metadata": {},
   "outputs": [],
   "source": [
    "Q4.The variances of two populations are known to be 10 and 15. A sample of 12 observations is taken from\n",
    "each population. Conduct an F-test at the 5% significance level to determine if the variances are\n",
    "significantly different."
   ]
  },
  {
   "cell_type": "code",
   "execution_count": 67,
   "id": "378b8fce-94f3-490b-92a0-d854e17a3ef1",
   "metadata": {},
   "outputs": [
    {
     "name": "stdout",
     "output_type": "stream",
     "text": [
      "F-test: 0.6666666666666666\n",
      "Critical Value: 2.8179304699530863\n",
      "Accept the null hypothesis\n"
     ]
    }
   ],
   "source": [
    "import numpy as np\n",
    "import scipy.stats as st\n",
    "\n",
    "sample_a = 12\n",
    "s1 = 10\n",
    "sample_b = 12\n",
    "s2 = 15\n",
    "\n",
    "# calculating f-test\n",
    "f_test = s1/s2\n",
    "print('F-test:',f_test)\n",
    "\n",
    "# calculating df\n",
    "df1 = sample_a-1\n",
    "df2 = sample_b-1\n",
    "significance_value = 0.05\n",
    "\n",
    "# critical value\n",
    "# dfn: dof of numerator, dfd: dof of denominator\n",
    "critical_value = st.f.ppf(q=1-significance_value,dfn=df1,dfd=df2)\n",
    "print('Critical Value:',critical_value)\n",
    "\n",
    "# Decision rule\n",
    "if f_test > critical_value:\n",
    "    print('Reject the null hypothesis')\n",
    "else:\n",
    "    print('Accept the null hypothesis')"
   ]
  },
  {
   "cell_type": "code",
   "execution_count": null,
   "id": "06f0ab8d-c8f0-4287-9b27-415c0f1a916c",
   "metadata": {},
   "outputs": [],
   "source": [
    "Q5. A manufacturer claims that the variance of the diameter of a certain product is 0.005. A sample of 25\n",
    "products is taken, and the sample variance is found to be 0.006. Conduct an F-test at the 1% significance\n",
    "level to determine if the claim is justified."
   ]
  },
  {
   "cell_type": "code",
   "execution_count": 100,
   "id": "0cbe89df-f99b-4674-833f-723f80b13b12",
   "metadata": {},
   "outputs": [
    {
     "name": "stdout",
     "output_type": "stream",
     "text": [
      "F-value 0.8333333333333334\n",
      "Critical value 7.8228705933679725\n",
      "Accept the null hypothesis\n"
     ]
    }
   ],
   "source": [
    "import scipy.stats as st\n",
    "\n",
    "pop_variance = 0.005\n",
    "# Let dfn=1\n",
    "sample = 25\n",
    "sample_variance = 0.006\n",
    "significance_value = 0.01\n",
    "\n",
    "# H0: population variance = 0.005\n",
    "# H1: null hypothesis is false\n",
    "\n",
    "f_value = pop_variance/sample_variance\n",
    "print('F-value',f_value)\n",
    "df = sample-1\n",
    "critical_value = st.f.ppf(q=1-significance_value,dfn=1,dfd=df)\n",
    "print('Critical value', critical_value)\n",
    "\n",
    "if f_value > critical_value:\n",
    "    print('Reject the null hypothesis')\n",
    "else:\n",
    "    print('Accept the null hypothesis')"
   ]
  },
  {
   "cell_type": "code",
   "execution_count": null,
   "id": "c0dc1510-1056-41a9-a5c2-754d9d2542e5",
   "metadata": {},
   "outputs": [],
   "source": [
    "Q6. Write a Python function that takes in the degrees of freedom for the numerator and denominator of an\n",
    "F-distribution and calculates the mean and variance of the distribution. The function should return the\n",
    "mean and variance as a tuple."
   ]
  },
  {
   "cell_type": "code",
   "execution_count": 90,
   "id": "a65e67fc-f501-4a2b-aa81-ecd86148409e",
   "metadata": {},
   "outputs": [],
   "source": [
    "import scipy.stats as st\n",
    "\n",
    "def mean_and_var_f(df1,df2):\n",
    "    \n",
    "    mean = st.f.mean(df1,df2)\n",
    "    variance = st.f.var(df1,df2)\n",
    " \n",
    "    return (mean,variance)"
   ]
  },
  {
   "cell_type": "code",
   "execution_count": 91,
   "id": "93aebe7a-a26e-4b9d-bcd8-05f6d8924c20",
   "metadata": {},
   "outputs": [
    {
     "data": {
      "text/plain": [
       "(1.6666666666666667, 9.722222222222221)"
      ]
     },
     "execution_count": 91,
     "metadata": {},
     "output_type": "execute_result"
    }
   ],
   "source": [
    "mean_and_var_f(4,5)"
   ]
  },
  {
   "cell_type": "code",
   "execution_count": null,
   "id": "c9dcd8ef-1568-4e57-ab1b-d56ae32faf82",
   "metadata": {},
   "outputs": [],
   "source": [
    "Q7. A random sample of 10 measurements is taken from a normal population with unknown variance. The\n",
    "sample variance is found to be 25. Another random sample of 15 measurements is taken from another\n",
    "normal population with unknown variance, and the sample variance is found to be 20. Conduct an F-test\n",
    "at the 10% significance level to determine if the variances are significantly different."
   ]
  },
  {
   "cell_type": "code",
   "execution_count": 11,
   "id": "d4fe1b21-890d-4962-8bc7-0d73efbd0962",
   "metadata": {},
   "outputs": [
    {
     "name": "stdout",
     "output_type": "stream",
     "text": [
      "F-test: 1.25\n",
      "Critical Value: 2.121954566976902\n",
      "Accept the null hypothesis\n"
     ]
    }
   ],
   "source": [
    "import numpy as np\n",
    "import scipy.stats as st\n",
    "\n",
    "sample_1 = 10\n",
    "s1 = 25\n",
    "sample_2 = 15\n",
    "s2 = 20\n",
    "\n",
    "# calculating f-test\n",
    "f_test = s1/s2\n",
    "print('F-test:',f_test)\n",
    "\n",
    "# calculating df\n",
    "df1 = sample_1-1\n",
    "df2 = sample_2-1\n",
    "significance_value = 0.10\n",
    "\n",
    "# critical value\n",
    "# dfn: dof of numerator, dfd: dof of denominator\n",
    "critical_value = st.f.ppf(q=1-significance_value,dfn=df1,dfd=df2)\n",
    "print('Critical Value:',critical_value)\n",
    "\n",
    "# Decision rule\n",
    "if f_test > critical_value:\n",
    "    print('Reject the null hypothesis')\n",
    "else:\n",
    "    print('Accept the null hypothesis')"
   ]
  },
  {
   "cell_type": "code",
   "execution_count": null,
   "id": "e79fbc97-2d94-48d6-aae6-df00885076e1",
   "metadata": {},
   "outputs": [],
   "source": [
    "Q8. The following data represent the waiting times in minutes at two different restaurants on a Saturday\n",
    "night: Restaurant A: 24, 25, 28, 23, 22, 20, 27; Restaurant B: 31, 33, 35, 30, 32, 36. Conduct an F-test at the 5%\n",
    "significance level to determine if the variances are significantly different."
   ]
  },
  {
   "cell_type": "code",
   "execution_count": 9,
   "id": "3c84b674-218a-4865-9e3e-056634ffadc5",
   "metadata": {},
   "outputs": [
    {
     "name": "stdout",
     "output_type": "stream",
     "text": [
      "F-test: 1.496767651159843\n",
      "Critical Value: 5.050329057632646\n",
      "Accept the null hypothesis\n"
     ]
    }
   ],
   "source": [
    "import numpy as np\n",
    "import scipy.stats as st\n",
    "\n",
    "restaurant_A = [24, 25, 28, 23, 22, 20, 27]\n",
    "restaurant_B = [31, 33, 35, 30, 32, 36]\n",
    "\n",
    "# H0: (σ1)2 = (σ2)2\n",
    "# H1: (σ1)2 ≠ (σ2)2 \n",
    "\n",
    "# calculating f-test\n",
    "f_test = np.var(restaurant_A)/np.var(restaurant_B)\n",
    "print('F-test:',f_test)\n",
    "\n",
    "# calculating df\n",
    "df1 =len(group_A)-1\n",
    "df2 =len(group_B)-1\n",
    "significance_value = 0.05\n",
    "\n",
    "# critical value\n",
    "# dfn: dof of numerator, dfd: dof of denominator\n",
    "critical_value = st.f.ppf(q=1-significance_value,dfn=df1,dfd=df2)\n",
    "print('Critical Value:',critical_value)\n",
    "\n",
    "# Decision rule\n",
    "if f_test > critical_value:\n",
    "    print('Reject the null hypothesis')\n",
    "else:\n",
    "    print('Accept the null hypothesis')"
   ]
  },
  {
   "cell_type": "code",
   "execution_count": null,
   "id": "c4da0eaa-de19-4968-b84b-e3a3c9939616",
   "metadata": {},
   "outputs": [],
   "source": [
    "Q9. The following data represent the test scores of two groups of students: Group A: 80, 85, 90, 92, 87, 83;\n",
    "Group B: 75, 78, 82, 79, 81, 84. Conduct an F-test at the 1% significance level to determine if the variances\n",
    "are significantly different."
   ]
  },
  {
   "cell_type": "code",
   "execution_count": 7,
   "id": "183f963f-6de6-45b4-a506-ce8040100de2",
   "metadata": {},
   "outputs": [
    {
     "name": "stdout",
     "output_type": "stream",
     "text": [
      "F-test: 1.9442622950819677\n",
      "Critical Value: 10.967020650907992\n",
      "Accept the null hypothesis\n"
     ]
    }
   ],
   "source": [
    "group_A = [80, 85, 90, 92, 87, 83]\n",
    "group_B = [75, 78, 82, 79, 81, 84]\n",
    "\n",
    "# H0: mu1=mu2\n",
    "# H1: mu1≠mu2\n",
    "\n",
    "# calculating f-test\n",
    "\n",
    "import numpy as np\n",
    "\n",
    "f_test = np.var(group_A)/np.var(group_B)\n",
    "print('F-test:',f_test)\n",
    "\n",
    "# calculating df\n",
    "df1 =len(group_A)-1\n",
    "df2 =len(group_B)-1\n",
    "significance_value = 0.01\n",
    "\n",
    "# critical value\n",
    "\n",
    "import scipy.stats as st\n",
    "\n",
    "# dfn: dof of numerator, dfd: dof of denominator\n",
    "critical_value = st.f.ppf(q=1-significance_value,dfn=df1,dfd=df2)\n",
    "print('Critical Value:',critical_value)\n",
    "\n",
    "# Decision rule\n",
    "if f_test > critical_value:\n",
    "    print('Reject the null hypothesis')\n",
    "else:\n",
    "    print('Accept the null hypothesis')"
   ]
  },
  {
   "cell_type": "code",
   "execution_count": null,
   "id": "7c755592-f328-4924-9c39-329a95fd59ac",
   "metadata": {},
   "outputs": [],
   "source": []
  }
 ],
 "metadata": {
  "kernelspec": {
   "display_name": "Python 3 (ipykernel)",
   "language": "python",
   "name": "python3"
  },
  "language_info": {
   "codemirror_mode": {
    "name": "ipython",
    "version": 3
   },
   "file_extension": ".py",
   "mimetype": "text/x-python",
   "name": "python",
   "nbconvert_exporter": "python",
   "pygments_lexer": "ipython3",
   "version": "3.10.8"
  }
 },
 "nbformat": 4,
 "nbformat_minor": 5
}
